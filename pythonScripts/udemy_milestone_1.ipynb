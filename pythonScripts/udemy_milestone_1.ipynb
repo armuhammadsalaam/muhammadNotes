{
 "metadata": {
  "language_info": {
   "codemirror_mode": {
    "name": "ipython",
    "version": 3
   },
   "file_extension": ".py",
   "mimetype": "text/x-python",
   "name": "python",
   "nbconvert_exporter": "python",
   "pygments_lexer": "ipython3",
   "version": "3.7.6-final"
  },
  "orig_nbformat": 2,
  "kernelspec": {
   "name": "python3",
   "display_name": "Python 3"
  }
 },
 "nbformat": 4,
 "nbformat_minor": 2,
 "cells": [
  {
   "cell_type": "code",
   "execution_count": 1,
   "metadata": {},
   "outputs": [],
   "source": [
    "def display_board(board):\n",
    "    print(board[7]+'|'+board[8]+'|'+board[9]+'|')\n",
    "    print(board[4]+'|'+board[5]+'|'+board[6]+'|')\n",
    "    print(board[1]+'|'+board[2]+'|'+board[3]+'|')"
   ]
  },
  {
   "cell_type": "code",
   "execution_count": 2,
   "metadata": {
    "tags": []
   },
   "outputs": [
    {
     "output_type": "stream",
     "name": "stdout",
     "text": "| | |\n | | |\n | | |\n"
    }
   ],
   "source": [
    "sample_board=['#',' ',' ',' ',' ',' ',' ',' ',' ',' ']\n",
    "display_board(sample_board)"
   ]
  },
  {
   "cell_type": "code",
   "execution_count": 4,
   "metadata": {},
   "outputs": [],
   "source": [
    "def player_input():\n",
    "    choice= \"wrong\"\n",
    "    while choice:\n",
    "        choice=input(\"Player 1 choose 'X' or 'O': \")\n",
    "        if choice == 'X' or 'O' is False:\n",
    "            print(\"Please choose 'X' or 'O'\")\n",
    "    return f'Player 1 is {choice}'"
   ]
  },
  {
   "cell_type": "code",
   "execution_count": 5,
   "metadata": {},
   "outputs": [],
   "source": [
    "def user_choice():\n",
    "    choice='wrong'\n",
    "    while choice.isdigit() == False:\n",
    "        choice=input('Please enter a number (0-10): ')\n",
    "        if choice.isdigit() == False:\n",
    "            print('Sorry that is not a digit')\n",
    "    return int(choice)"
   ]
  },
  {
   "cell_type": "code",
   "execution_count": 8,
   "metadata": {},
   "outputs": [],
   "source": [
    "sample_game=[' ']*10\n",
    "def display_game(sample_game):\n",
    "    print(sample_game[7]+'|'+sample_game[8]+'|'+sample_game[9]+'|')\n",
    "    print(sample_game[4]+'|'+sample_game[5]+'|'+sample_game[6]+'|')\n",
    "    print(sample_game[1]+'|'+sample_game[2]+'|'+sample_game[3]+'|')"
   ]
  },
  {
   "cell_type": "code",
   "execution_count": 9,
   "metadata": {
    "tags": []
   },
   "outputs": [
    {
     "output_type": "stream",
     "name": "stdout",
     "text": "| | |\n | | |\n | | |\n"
    }
   ],
   "source": [
    "display_game(sample_game)"
   ]
  },
  {
   "cell_type": "code",
   "execution_count": null,
   "metadata": {},
   "outputs": [],
   "source": []
  }
 ]
}