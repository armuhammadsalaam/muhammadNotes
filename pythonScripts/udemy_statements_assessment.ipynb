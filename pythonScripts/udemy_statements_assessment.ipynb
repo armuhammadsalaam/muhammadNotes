{
 "metadata": {
  "language_info": {
   "codemirror_mode": {
    "name": "ipython",
    "version": 3
   },
   "file_extension": ".py",
   "mimetype": "text/x-python",
   "name": "python",
   "nbconvert_exporter": "python",
   "pygments_lexer": "ipython3",
   "version": "3.7.6-final"
  },
  "orig_nbformat": 2,
  "kernelspec": {
   "name": "python3",
   "display_name": "Python 3"
  }
 },
 "nbformat": 4,
 "nbformat_minor": 2,
 "cells": [
  {
   "cell_type": "code",
   "execution_count": 1,
   "metadata": {
    "tags": []
   },
   "outputs": [
    {
     "output_type": "stream",
     "name": "stdout",
     "text": "start\ns\nsentence\n"
    }
   ],
   "source": [
    "st = 'Print only the words that start with s in this sentence'\n",
    "for _ in st.split():\n",
    "    if _[0] == 's':\n",
    "        print(_)"
   ]
  },
  {
   "cell_type": "code",
   "execution_count": 5,
   "metadata": {
    "tags": []
   },
   "outputs": [
    {
     "output_type": "stream",
     "name": "stdout",
     "text": "0\n2\n4\n6\n8\n10\n"
    }
   ],
   "source": [
    "for _ in range(11):\n",
    "    if _%2==0:\n",
    "        print(_)"
   ]
  },
  {
   "cell_type": "code",
   "execution_count": 9,
   "metadata": {
    "tags": []
   },
   "outputs": [
    {
     "output_type": "stream",
     "name": "stdout",
     "text": "[3, 6, 9, 12, 15, 18, 21, 24, 27, 30, 33, 36, 39, 42, 45, 48]\n"
    }
   ],
   "source": [
    "list=[_ for _ in range(1,50) if _%3==0]\n",
    "print(list)\n"
   ]
  },
  {
   "cell_type": "code",
   "execution_count": 13,
   "metadata": {
    "tags": []
   },
   "outputs": [
    {
     "output_type": "stream",
     "name": "stdout",
     "text": "Print\nevery\nword is even!\nin is even!\nthis is even!\nsentence is even!\nthat is even!\nhas\nan is even!\neven is even!\nnumber is even!\nof is even!\nletters\n"
    }
   ],
   "source": [
    "st='Print every word in this sentence that has an even number of letters'\n",
    "for _ in st.split():\n",
    "    if len(_)%2==0:\n",
    "        print(_+' is even!')\n",
    "    else:\n",
    "        print(_)"
   ]
  },
  {
   "cell_type": "code",
   "execution_count": 1,
   "metadata": {
    "tags": []
   },
   "outputs": [
    {
     "output_type": "stream",
     "name": "stdout",
     "text": "word is even!\nin is even!\nthis is even!\nsentence is even!\nthat is even!\nan is even!\neven is even!\nnumber is even!\nof is even!\n"
    }
   ],
   "source": [
    "st='Print every word in this sentence that has an even number of letters'\n",
    "for _ in st.split():\n",
    "    if len(_)%2==0:\n",
    "        print(_+' is even!')"
   ]
  },
  {
   "cell_type": "code",
   "execution_count": 41,
   "metadata": {
    "tags": []
   },
   "outputs": [
    {
     "output_type": "stream",
     "name": "stdout",
     "text": "1\n2\nFizz\n4\nBuzz\nFizz\n7\n8\nFizz\nBuzz\n11\nFizz\n13\n14\nFizzBuzz\n16\n17\nFizz\n19\nBuzz\nFizz\n22\n23\nFizz\nBuzz\n26\nFizz\n28\n29\nFizzBuzz\n31\n32\nFizz\n34\nBuzz\nFizz\n37\n38\nFizz\nBuzz\n41\nFizz\n43\n44\nFizzBuzz\n46\n47\nFizz\n49\nBuzz\nFizz\n52\n53\nFizz\nBuzz\n56\nFizz\n58\n59\nFizzBuzz\n61\n62\nFizz\n64\nBuzz\nFizz\n67\n68\nFizz\nBuzz\n71\nFizz\n73\n74\nFizzBuzz\n76\n77\nFizz\n79\nBuzz\nFizz\n82\n83\nFizz\nBuzz\n86\nFizz\n88\n89\nFizzBuzz\n91\n92\nFizz\n94\nBuzz\nFizz\n97\n98\nFizz\nBuzz\n"
    }
   ],
   "source": [
    "list=[_ for _ in range(1,101)]\n",
    "for _ in list:\n",
    "    if _%3==0 and _%5==0:\n",
    "        print('FizzBuzz')\n",
    "    elif _%3==0:\n",
    "        print('Fizz')\n",
    "    elif _%5==0:\n",
    "        print('Buzz')\n",
    "    else:\n",
    "        print(_)"
   ]
  },
  {
   "cell_type": "code",
   "execution_count": 47,
   "metadata": {
    "tags": []
   },
   "outputs": [
    {
     "output_type": "stream",
     "name": "stdout",
     "text": "C\na\nl\no\nt\nf\nl\no\ne\nw\ni\nt\ns\n"
    }
   ],
   "source": [
    "# here I used list comprehension combined with a for loop.\n",
    "# this will print text instead of list syntax\n",
    "st='Create a list of the first letters of every word in this string'\n",
    "list=[_ for _ in st.split()]\n",
    "for _ in list:\n",
    "    if _[0]:\n",
    "        print(_[0])\n"
   ]
  },
  {
   "cell_type": "code",
   "execution_count": 49,
   "metadata": {
    "tags": []
   },
   "outputs": [
    {
     "output_type": "stream",
     "name": "stdout",
     "text": "['C', 'a', 'l', 'o', 't', 'f', 'l', 'o', 'e', 'w', 'i', 't', 's']\n"
    }
   ],
   "source": [
    "# can compress the above example into one line of code shown here\n",
    "# output will be in list syntax\n",
    "st='Create a list of the first letters of every word in this string'\n",
    "list1=[_[0] for _ in st.split()]\n",
    "print(list1)"
   ]
  }
 ]
}