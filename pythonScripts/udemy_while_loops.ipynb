{
 "metadata": {
  "language_info": {
   "codemirror_mode": {
    "name": "ipython",
    "version": 3
   },
   "file_extension": ".py",
   "mimetype": "text/x-python",
   "name": "python",
   "nbconvert_exporter": "python",
   "pygments_lexer": "ipython3",
   "version": "3.7.6-final"
  },
  "orig_nbformat": 2,
  "kernelspec": {
   "name": "python3",
   "display_name": "Python 3"
  }
 },
 "nbformat": 4,
 "nbformat_minor": 2,
 "cells": [
  {
   "cell_type": "code",
   "execution_count": 1,
   "metadata": {},
   "outputs": [],
   "source": [
    "# While Loops \n",
    "# will execute a block of code while a condition remains True.\n",
    "# ex: while my heart rate is below 100, keep exercising to raise it\n",
    "# syntax - \n",
    "# while boolean_condition:\n",
    "    #do something\n",
    "# else:\n",
    "    #do something different"
   ]
  },
  {
   "cell_type": "code",
   "execution_count": 4,
   "metadata": {
    "tags": []
   },
   "outputs": [
    {
     "output_type": "stream",
     "name": "stdout",
     "text": "The current value of x is 0\nThe current value of x is 1\nThe current value of x is 2\nThe current value of x is 3\nThe current value of x is 4\nX is not less than 5\n"
    }
   ],
   "source": [
    "x=0\n",
    "while x < 5:\n",
    "    print(f'The current value of x is {x}')\n",
    "    x = x+1\n",
    "    # x+=1\n",
    "else: \n",
    "    print('X is not less than 5')"
   ]
  },
  {
   "cell_type": "code",
   "execution_count": 5,
   "metadata": {},
   "outputs": [],
   "source": [
    "# break: breaks out of the current closest enclosing loop\n",
    "# continue: goes to the top of the closest enclosing loop\n",
    "# pass: Does nothing at all"
   ]
  },
  {
   "cell_type": "code",
   "execution_count": 6,
   "metadata": {},
   "outputs": [
    {
     "output_type": "error",
     "ename": "SyntaxError",
     "evalue": "unexpected EOF while parsing (<ipython-input-6-0748ab7a3ef5>, line 3)",
     "traceback": [
      "\u001b[1;36m  File \u001b[1;32m\"<ipython-input-6-0748ab7a3ef5>\"\u001b[1;36m, line \u001b[1;32m3\u001b[0m\n\u001b[1;33m    # comment\u001b[0m\n\u001b[1;37m             ^\u001b[0m\n\u001b[1;31mSyntaxError\u001b[0m\u001b[1;31m:\u001b[0m unexpected EOF while parsing\n"
     ]
    }
   ],
   "source": [
    "x=[1,2,3]\n",
    "for _ in x:\n",
    "    # comment"
   ]
  },
  {
   "cell_type": "code",
   "execution_count": 9,
   "metadata": {
    "tags": []
   },
   "outputs": [
    {
     "output_type": "stream",
     "name": "stdout",
     "text": "end of string\n"
    }
   ],
   "source": [
    "x=[1,2,3]\n",
    "for _ in x:\n",
    "    # comment\n",
    "    pass\n",
    "print('end of string')"
   ]
  },
  {
   "cell_type": "code",
   "execution_count": 10,
   "metadata": {},
   "outputs": [],
   "source": [
    "mystring='Sammy'"
   ]
  },
  {
   "cell_type": "code",
   "execution_count": 11,
   "metadata": {
    "tags": []
   },
   "outputs": [
    {
     "output_type": "stream",
     "name": "stdout",
     "text": "S\na\nm\nm\ny\n"
    }
   ],
   "source": [
    "for _ in mystring:\n",
    "    print(_)"
   ]
  },
  {
   "cell_type": "code",
   "execution_count": 12,
   "metadata": {
    "tags": []
   },
   "outputs": [
    {
     "output_type": "stream",
     "name": "stdout",
     "text": "S\nm\nm\ny\n"
    }
   ],
   "source": [
    "for _ in mystring:\n",
    "    if _ == 'a':\n",
    "        continue\n",
    "    print(_)"
   ]
  },
  {
   "cell_type": "code",
   "execution_count": 13,
   "metadata": {
    "tags": []
   },
   "outputs": [
    {
     "output_type": "stream",
     "name": "stdout",
     "text": "S\n"
    }
   ],
   "source": [
    "for _ in mystring:\n",
    "    if _=='a':\n",
    "        break\n",
    "    print(_)"
   ]
  },
  {
   "cell_type": "code",
   "execution_count": 14,
   "metadata": {
    "tags": []
   },
   "outputs": [
    {
     "output_type": "stream",
     "name": "stdout",
     "text": "0\n1\n2\n3\n4\n"
    }
   ],
   "source": [
    "x=0\n",
    "while x<5:\n",
    "    print(x)\n",
    "    x+=1"
   ]
  },
  {
   "cell_type": "code",
   "execution_count": 15,
   "metadata": {
    "tags": []
   },
   "outputs": [
    {
     "output_type": "stream",
     "name": "stdout",
     "text": "0\n1\n"
    }
   ],
   "source": [
    "x=0\n",
    "while x<5:\n",
    "    if x==2:\n",
    "        break\n",
    "    print(x)\n",
    "    x+=1"
   ]
  },
  {
   "cell_type": "code",
   "execution_count": null,
   "metadata": {},
   "outputs": [],
   "source": []
  }
 ]
}