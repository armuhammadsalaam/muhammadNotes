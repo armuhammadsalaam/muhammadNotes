{
 "metadata": {
  "language_info": {
   "codemirror_mode": {
    "name": "ipython",
    "version": 3
   },
   "file_extension": ".py",
   "mimetype": "text/x-python",
   "name": "python",
   "nbconvert_exporter": "python",
   "pygments_lexer": "ipython3",
   "version": "3.7.6-final"
  },
  "orig_nbformat": 2,
  "kernelspec": {
   "name": "python3",
   "display_name": "Python 3"
  }
 },
 "nbformat": 4,
 "nbformat_minor": 2,
 "cells": [
  {
   "cell_type": "code",
   "execution_count": 1,
   "metadata": {},
   "outputs": [],
   "source": [
    "# Tuple Unpacking with Functions"
   ]
  },
  {
   "cell_type": "code",
   "execution_count": 2,
   "metadata": {},
   "outputs": [],
   "source": [
    "stock_prices=[('APPL',200),('GOOG',400),('MSFT',100)]"
   ]
  },
  {
   "cell_type": "code",
   "execution_count": 9,
   "metadata": {
    "tags": []
   },
   "outputs": [
    {
     "output_type": "stream",
     "name": "stdout",
     "text": "('APPL', 200)\n('GOOG', 400)\n('MSFT', 100)\n"
    }
   ],
   "source": [
    "for item in stock_prices:\n",
    "    print(item)"
   ]
  },
  {
   "cell_type": "code",
   "execution_count": 10,
   "metadata": {
    "tags": []
   },
   "outputs": [
    {
     "output_type": "stream",
     "name": "stdout",
     "text": "APPL\nGOOG\nMSFT\n"
    }
   ],
   "source": [
    "for ticker,price in stock_prices:\n",
    "    print(ticker)"
   ]
  },
  {
   "cell_type": "code",
   "execution_count": 11,
   "metadata": {
    "tags": []
   },
   "outputs": [
    {
     "output_type": "stream",
     "name": "stdout",
     "text": "220.0\n440.0\n110.0\n"
    }
   ],
   "source": [
    "for ticker,price in stock_prices:\n",
    "    print(price+.1*price)"
   ]
  },
  {
   "cell_type": "code",
   "execution_count": 12,
   "metadata": {},
   "outputs": [],
   "source": [
    "work_hours=[('Abby',100),('Billy',400),('Cassie',800)]"
   ]
  },
  {
   "cell_type": "code",
   "execution_count": 14,
   "metadata": {},
   "outputs": [],
   "source": [
    "def employee_check(work_hours):\n",
    "    current_max=1\n",
    "    employee_of_month=''\n",
    "    for employee,hours in work_hours:\n",
    "        if hours > current_max:\n",
    "            current_max = hours\n",
    "            employee_of_month=employee\n",
    "        else:\n",
    "            pass\n",
    "    # Return\n",
    "    return(employee_of_month,current_max)"
   ]
  },
  {
   "cell_type": "code",
   "execution_count": 15,
   "metadata": {},
   "outputs": [
    {
     "output_type": "execute_result",
     "data": {
      "text/plain": "('Cassie', 800)"
     },
     "metadata": {},
     "execution_count": 15
    }
   ],
   "source": [
    "employee_check(work_hours)"
   ]
  },
  {
   "cell_type": "code",
   "execution_count": 44,
   "metadata": {},
   "outputs": [],
   "source": [
    "support =[('Amador',.87), ('Eusebio',.79), ('Hunter',.39),('Jane',.33), ('Brittany',.23), ('Tierra',.75), ('Regina',.55), ('John',.49), ('Michael',.40), ('Sandra',.33)]\n",
    "def refer_to_support(support):\n",
    "    support_high=[]\n",
    "    support_moderate=[]\n",
    "    support_mean=[]\n",
    "    support_meets=[]\n",
    "    for student,score in support:\n",
    "            if .75 <= score <= 1:\n",
    "                support_high.append(student)\n",
    "            elif .50 <= score < .75:\n",
    "                support_moderate.append(student)\n",
    "            elif .25 <= score < .50:\n",
    "                support_mean.append(student)\n",
    "            elif 0 <= score < .25:\n",
    "                support_meets.append(student)\n",
    "    return support_high,support_moderate,support_mean, support_meets"
   ]
  },
  {
   "cell_type": "code",
   "execution_count": 45,
   "metadata": {},
   "outputs": [
    {
     "output_type": "execute_result",
     "data": {
      "text/plain": "(['Amador', 'Eusebio', 'Tierra'],\n ['Regina'],\n ['Hunter', 'Jane', 'John', 'Michael', 'Sandra'],\n ['Brittany'])"
     },
     "metadata": {},
     "execution_count": 45
    }
   ],
   "source": [
    "refer_to_support(support)"
   ]
  },
  {
   "cell_type": "code",
   "execution_count": 2,
   "metadata": {},
   "outputs": [],
   "source": [
    "def myfunc(x):\n",
    "    out=[]\n",
    "    for i in range(len(x)):\n",
    "        if i%2==0:\n",
    "            out.append(x[i].upper())\n",
    "        else:\n",
    "            out.append(x[i].lower())\n",
    "    return ''.join(out)"
   ]
  },
  {
   "cell_type": "code",
   "execution_count": null,
   "metadata": {},
   "outputs": [],
   "source": []
  }
 ]
}