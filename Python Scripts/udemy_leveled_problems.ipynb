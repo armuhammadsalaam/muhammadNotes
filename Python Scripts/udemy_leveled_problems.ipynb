{
 "metadata": {
  "language_info": {
   "codemirror_mode": {
    "name": "ipython",
    "version": 3
   },
   "file_extension": ".py",
   "mimetype": "text/x-python",
   "name": "python",
   "nbconvert_exporter": "python",
   "pygments_lexer": "ipython3",
   "version": "3.7.6-final"
  },
  "orig_nbformat": 2,
  "kernelspec": {
   "name": "python3",
   "display_name": "Python 3"
  }
 },
 "nbformat": 4,
 "nbformat_minor": 2,
 "cells": [
  {
   "cell_type": "code",
   "execution_count": 8,
   "metadata": {},
   "outputs": [],
   "source": [
    "def lesser_even(x,y):\n",
    "        if x%2==0 and y%2==0:\n",
    "            return min(x,y)\n",
    "        elif x%2!=0 or y%2!=0:\n",
    "            return max(x,y)\n",
    "            \n"
   ]
  },
  {
   "cell_type": "code",
   "execution_count": 9,
   "metadata": {},
   "outputs": [
    {
     "output_type": "execute_result",
     "data": {
      "text/plain": "3"
     },
     "metadata": {},
     "execution_count": 9
    }
   ],
   "source": [
    "lesser_even(2,3)"
   ]
  },
  {
   "cell_type": "code",
   "execution_count": 10,
   "metadata": {},
   "outputs": [
    {
     "output_type": "execute_result",
     "data": {
      "text/plain": "2"
     },
     "metadata": {},
     "execution_count": 10
    }
   ],
   "source": [
    "lesser_even(2,4)"
   ]
  },
  {
   "cell_type": "code",
   "execution_count": 17,
   "metadata": {},
   "outputs": [],
   "source": [
    "# search the list at [0] for first item at [0] for first letter and compare to list at [1] for second item at [0] for first letter\n",
    "# .split() returns a list\n",
    "# .lower() will lower case all letters before returning to make boolean true for dif case words\n",
    "def animal_crackers(twowords):\n",
    "    mlist=twowords.lower().split()\n",
    "    return mlist[0][0]==mlist[1][0]"
   ]
  },
  {
   "cell_type": "code",
   "execution_count": 18,
   "metadata": {},
   "outputs": [
    {
     "output_type": "execute_result",
     "data": {
      "text/plain": "True"
     },
     "metadata": {},
     "execution_count": 18
    }
   ],
   "source": [
    "animal_crackers('country cougar')"
   ]
  },
  {
   "cell_type": "code",
   "execution_count": 22,
   "metadata": {},
   "outputs": [],
   "source": [
    "def myfunc(x,y):\n",
    "    list1=[]\n",
    "    if sum(list1) == 20:\n",
    "        return True\n",
    "    elif x == 20 or y == 20:\n",
    "        return True\n",
    "    else:\n",
    "        return False"
   ]
  },
  {
   "cell_type": "code",
   "execution_count": 23,
   "metadata": {},
   "outputs": [
    {
     "output_type": "execute_result",
     "data": {
      "text/plain": "False"
     },
     "metadata": {},
     "execution_count": 23
    }
   ],
   "source": [
    "myfunc(10,11)"
   ]
  },
  {
   "cell_type": "code",
   "execution_count": 30,
   "metadata": {},
   "outputs": [
    {
     "output_type": "execute_result",
     "data": {
      "text/plain": "True"
     },
     "metadata": {},
     "execution_count": 30
    }
   ],
   "source": [
    "myfunc(21,20)"
   ]
  },
  {
   "cell_type": "code",
   "execution_count": 31,
   "metadata": {},
   "outputs": [
    {
     "output_type": "execute_result",
     "data": {
      "text/plain": "True"
     },
     "metadata": {},
     "execution_count": 31
    }
   ],
   "source": [
    "myfunc(5,15)"
   ]
  },
  {
   "cell_type": "code",
   "execution_count": 33,
   "metadata": {},
   "outputs": [],
   "source": [
    "# compress code and avoid having to use a list for sum\n",
    "def myfunc(x,y):\n",
    "    if x+y==20:\n",
    "        return True\n",
    "    elif x==20 or y==20:\n",
    "        return True\n",
    "    else:\n",
    "        return False"
   ]
  },
  {
   "cell_type": "code",
   "execution_count": 34,
   "metadata": {},
   "outputs": [
    {
     "output_type": "execute_result",
     "data": {
      "text/plain": "True"
     },
     "metadata": {},
     "execution_count": 34
    }
   ],
   "source": [
    "myfunc(20,3)"
   ]
  },
  {
   "cell_type": "code",
   "execution_count": 35,
   "metadata": {},
   "outputs": [
    {
     "output_type": "execute_result",
     "data": {
      "text/plain": "False"
     },
     "metadata": {},
     "execution_count": 35
    }
   ],
   "source": [
    "myfunc(3,3)"
   ]
  },
  {
   "cell_type": "code",
   "execution_count": 36,
   "metadata": {},
   "outputs": [],
   "source": [
    "# can compress code even further into one line\n",
    "def myfunc(x,y):\n",
    "    return (x+y)==20 or x==20 or y==20"
   ]
  },
  {
   "cell_type": "code",
   "execution_count": 37,
   "metadata": {},
   "outputs": [
    {
     "output_type": "execute_result",
     "data": {
      "text/plain": "True"
     },
     "metadata": {},
     "execution_count": 37
    }
   ],
   "source": [
    "myfunc(10,10)"
   ]
  },
  {
   "cell_type": "code",
   "execution_count": 38,
   "metadata": {},
   "outputs": [
    {
     "output_type": "execute_result",
     "data": {
      "text/plain": "False"
     },
     "metadata": {},
     "execution_count": 38
    }
   ],
   "source": [
    "myfunc(10,3)"
   ]
  },
  {
   "cell_type": "code",
   "execution_count": 72,
   "metadata": {},
   "outputs": [],
   "source": [
    "# use indexing and slicing to manipulate individual _ in an object\n",
    "def old_macdonald(name):\n",
    "    first_slice=name[:3]\n",
    "    second_slice=name[3:]\n",
    "    return first_slice.capitalize() + second_slice.capitalize()\n",
    "\n"
   ]
  },
  {
   "cell_type": "code",
   "execution_count": 75,
   "metadata": {},
   "outputs": [
    {
     "output_type": "execute_result",
     "data": {
      "text/plain": "'MacDonald'"
     },
     "metadata": {},
     "execution_count": 75
    }
   ],
   "source": [
    "old_macdonald('macdonald')"
   ]
  },
  {
   "cell_type": "code",
   "execution_count": 84,
   "metadata": {},
   "outputs": [],
   "source": [
    "def func1(name):\n",
    "   first=name[:3]\n",
    "   second=name[3:]\n",
    "   if name[:3] == 'mac':\n",
    "       return first.capitalize()+second.capitalize()\n",
    "   else:\n",
    "       return 'macs only please'"
   ]
  },
  {
   "cell_type": "code",
   "execution_count": 85,
   "metadata": {},
   "outputs": [
    {
     "output_type": "execute_result",
     "data": {
      "text/plain": "'MacNeal'"
     },
     "metadata": {},
     "execution_count": 85
    }
   ],
   "source": [
    "func1('macneal')"
   ]
  },
  {
   "cell_type": "code",
   "execution_count": 86,
   "metadata": {},
   "outputs": [
    {
     "output_type": "execute_result",
     "data": {
      "text/plain": "'macs only please'"
     },
     "metadata": {},
     "execution_count": 86
    }
   ],
   "source": [
    "func1('jefferson')"
   ]
  },
  {
   "cell_type": "code",
   "execution_count": 88,
   "metadata": {},
   "outputs": [
    {
     "output_type": "execute_result",
     "data": {
      "text/plain": "'MacGreggor'"
     },
     "metadata": {},
     "execution_count": 88
    }
   ],
   "source": [
    "func1('macgreggor')"
   ]
  },
  {
   "cell_type": "code",
   "execution_count": 1,
   "metadata": {},
   "outputs": [],
   "source": [
    "# .join method will join item with a string you place inside '' in join method\n",
    "# remember to use a place holder (space) for .join method\n",
    "# syntax - ' '.join() joins the item in the parenthesis with the string in quotes. if only a space is in '', it will join the item in the parenthesis with a space from the '' in between each item in parentheses\n",
    "\n",
    "def master_yoda(sentence):\n",
    "    yoda_list=sentence.split()\n",
    "    reversed_yoda_list=yoda_list[::-1]\n",
    "    return ' '.join(reversed_yoda_list)"
   ]
  },
  {
   "cell_type": "code",
   "execution_count": 2,
   "metadata": {},
   "outputs": [
    {
     "output_type": "execute_result",
     "data": {
      "text/plain": "'home am I'"
     },
     "metadata": {},
     "execution_count": 2
    }
   ],
   "source": [
    "master_yoda('I am home')"
   ]
  },
  {
   "cell_type": "code",
   "execution_count": 111,
   "metadata": {},
   "outputs": [],
   "source": [
    "def num_func(n):\n",
    "    return 90<=n<=110 or 190<=n<=210"
   ]
  },
  {
   "cell_type": "code",
   "execution_count": 112,
   "metadata": {},
   "outputs": [
    {
     "output_type": "execute_result",
     "data": {
      "text/plain": "True"
     },
     "metadata": {},
     "execution_count": 112
    }
   ],
   "source": [
    "num_func(90)"
   ]
  },
  {
   "cell_type": "code",
   "execution_count": 113,
   "metadata": {},
   "outputs": [
    {
     "output_type": "execute_result",
     "data": {
      "text/plain": "False"
     },
     "metadata": {},
     "execution_count": 113
    }
   ],
   "source": [
    "num_func(88)"
   ]
  },
  {
   "cell_type": "code",
   "execution_count": 114,
   "metadata": {},
   "outputs": [
    {
     "output_type": "execute_result",
     "data": {
      "text/plain": "True"
     },
     "metadata": {},
     "execution_count": 114
    }
   ],
   "source": [
    "num_func(104)"
   ]
  },
  {
   "cell_type": "code",
   "execution_count": 115,
   "metadata": {},
   "outputs": [
    {
     "output_type": "execute_result",
     "data": {
      "text/plain": "False"
     },
     "metadata": {},
     "execution_count": 115
    }
   ],
   "source": [
    "num_func(150)"
   ]
  },
  {
   "cell_type": "code",
   "execution_count": 116,
   "metadata": {},
   "outputs": [],
   "source": [
    "# abs() returns the absolute value of a number\n",
    "# example within 10 of 100 or 200\n",
    "def almost_there(n):\n",
    "    return (abs(100-n)<=10) or (abs(200-n)<=10)"
   ]
  },
  {
   "cell_type": "code",
   "execution_count": 117,
   "metadata": {},
   "outputs": [
    {
     "output_type": "execute_result",
     "data": {
      "text/plain": "False"
     },
     "metadata": {},
     "execution_count": 117
    }
   ],
   "source": [
    "almost_there(120)"
   ]
  },
  {
   "cell_type": "code",
   "execution_count": 118,
   "metadata": {},
   "outputs": [
    {
     "output_type": "execute_result",
     "data": {
      "text/plain": "True"
     },
     "metadata": {},
     "execution_count": 118
    }
   ],
   "source": [
    "almost_there(110)"
   ]
  },
  {
   "cell_type": "code",
   "execution_count": 140,
   "metadata": {},
   "outputs": [],
   "source": [
    "def has_33(mylist):\n",
    "    for num in range(0,len(mylist)-1):\n",
    "        if mylist[num]==3 and mylist[num+1]==3:\n",
    "            return True\n",
    "    return False"
   ]
  },
  {
   "cell_type": "code",
   "execution_count": 141,
   "metadata": {},
   "outputs": [
    {
     "output_type": "execute_result",
     "data": {
      "text/plain": "True"
     },
     "metadata": {},
     "execution_count": 141
    }
   ],
   "source": [
    "has_33([1,3,3])"
   ]
  },
  {
   "cell_type": "code",
   "execution_count": 143,
   "metadata": {},
   "outputs": [
    {
     "output_type": "execute_result",
     "data": {
      "text/plain": "False"
     },
     "metadata": {},
     "execution_count": 143
    }
   ],
   "source": [
    "has_33([1,3,4])"
   ]
  },
  {
   "cell_type": "code",
   "execution_count": 184,
   "metadata": {},
   "outputs": [],
   "source": [
    "# for each character in some text, the function will return 3 of each character in the text by adding the triple characters to the empty string defined as the result  \n",
    "def paper_doll(text):\n",
    "    result=''\n",
    "    for _ in text:\n",
    "        result += _*3\n",
    "    return result"
   ]
  },
  {
   "cell_type": "code",
   "execution_count": 185,
   "metadata": {},
   "outputs": [
    {
     "output_type": "execute_result",
     "data": {
      "text/plain": "'HHHeeellllllooo'"
     },
     "metadata": {},
     "execution_count": 185
    }
   ],
   "source": [
    "paper_doll('Hello')"
   ]
  },
  {
   "cell_type": "code",
   "execution_count": 198,
   "metadata": {},
   "outputs": [],
   "source": [
    "# the function will return the sum of the numbers if they are <=21\n",
    "# if the sum is >21 and one of the numbers in the list is 11, it will return the sum minus 10\n",
    "# sums over 21 will return BUST\n",
    "# if the sum is over 21 even after the fix for 10, boolean will be false\n",
    "# since the boolean is not true, it will return BUST and not 'false'\n",
    "\n",
    "def blackjack(x,y,z):\n",
    "    if x+y+z <= 21:\n",
    "        return sum([x,y,z])\n",
    "    elif x+y+z > 21 and x==11 or y==11 or z==11:\n",
    "        return ((x+y+z)-10)\n",
    "    else:\n",
    "        return 'BUST'\n"
   ]
  },
  {
   "cell_type": "code",
   "execution_count": 199,
   "metadata": {},
   "outputs": [
    {
     "output_type": "execute_result",
     "data": {
      "text/plain": "'BUST'"
     },
     "metadata": {},
     "execution_count": 199
    }
   ],
   "source": [
    "blackjack(8,9,10)"
   ]
  },
  {
   "cell_type": "code",
   "execution_count": 200,
   "metadata": {},
   "outputs": [
    {
     "output_type": "execute_result",
     "data": {
      "text/plain": "21"
     },
     "metadata": {},
     "execution_count": 200
    }
   ],
   "source": [
    "blackjack(5,5,11)"
   ]
  },
  {
   "cell_type": "code",
   "execution_count": 202,
   "metadata": {},
   "outputs": [
    {
     "output_type": "execute_result",
     "data": {
      "text/plain": "12"
     },
     "metadata": {},
     "execution_count": 202
    }
   ],
   "source": [
    "blackjack(5,6,11)"
   ]
  },
  {
   "cell_type": "code",
   "execution_count": 219,
   "metadata": {},
   "outputs": [],
   "source": [
    "# this code below seems to be sound but i need to figure out how to return the code as output\n",
    "def summer_69(*numlist):\n",
    "    numlist=[]\n",
    "    numlist1=[]\n",
    "    numlist2=[]\n",
    "    for num in numlist:\n",
    "        return sum(numlist1,numlist2)\n",
    "        if num in numlist1 == 6:\n",
    "            return sum(numlist1[:num+1])\n",
    "            print(sum(numlist1[:num+1]))\n",
    "        elif num in numlist2 == 9:\n",
    "            return sum(numlist2[num-1:])\n",
    "            print(sum(numlist2[num-1:]))\n",
    "        else:\n",
    "            return 0\n",
    "            print ('0')\n",
    "        \n",
    "\n",
    "            "
   ]
  },
  {
   "cell_type": "code",
   "execution_count": 221,
   "metadata": {},
   "outputs": [],
   "source": [
    "# return the sum of numbers in the array, except ignore sections of numbers starting with a 6 and extending to the next 9. Return 0 for no numbers.\n",
    "def summer_69(arr):\n",
    "    total=0\n",
    "    add=True\n",
    "    for num in arr:\n",
    "        while add:\n",
    "            if num!=6:\n",
    "                total+=num\n",
    "                break\n",
    "            else:\n",
    "                add=False\n",
    "        while not add:\n",
    "            if num!=9:\n",
    "                break\n",
    "            else:\n",
    "                add=True\n",
    "                break\n",
    "    return total"
   ]
  },
  {
   "cell_type": "code",
   "execution_count": 222,
   "metadata": {},
   "outputs": [
    {
     "output_type": "execute_result",
     "data": {
      "text/plain": "9"
     },
     "metadata": {},
     "execution_count": 222
    }
   ],
   "source": [
    "summer_69([4,5,6,7,8,9])"
   ]
  },
  {
   "cell_type": "code",
   "execution_count": 225,
   "metadata": {},
   "outputs": [
    {
     "output_type": "execute_result",
     "data": {
      "text/plain": "21"
     },
     "metadata": {},
     "execution_count": 225
    }
   ],
   "source": [
    "summer_69([1,2,3,3,3,4,5,6,7,8,9])"
   ]
  },
  {
   "cell_type": "code",
   "execution_count": 9,
   "metadata": {},
   "outputs": [],
   "source": [
    "# this for loop searches the list for the code you're looking for\n",
    "# pop off each matching code at given index until the last item 'x' is left\n",
    "# if the for loop finds the code and ends with a len of 1, it will return true\n",
    "# if the loop goes through the list without confirming the code, the len will not be 1 and it will return false for finding the code\n",
    "def spy_game(nums):\n",
    "    code=[0,0,7,'x'] \n",
    "    for num in nums:\n",
    "        if num==code[0]:\n",
    "            code.pop(0)\n",
    "    return len(code)==1\n"
   ]
  },
  {
   "cell_type": "code",
   "execution_count": 10,
   "metadata": {},
   "outputs": [
    {
     "output_type": "execute_result",
     "data": {
      "text/plain": "True"
     },
     "metadata": {},
     "execution_count": 10
    }
   ],
   "source": [
    "spy_game([1,0,3,6,5,4,5,6,2,1,0,5,6,4,8,5,9,6,3,2,1,4,7,1,2,5,4,8])"
   ]
  },
  {
   "cell_type": "code",
   "execution_count": 228,
   "metadata": {},
   "outputs": [],
   "source": [
    "# code below is failed attempt at function for counting prime numbers up to a number\n",
    "def count_primes(number):\n",
    "    if number>1:\n",
    "        for num in [range(2,number+1)]:\n",
    "            if number%num==0:\n",
    "                return number, 'is not a prime number'\n",
    "                return num,'times', number//num ,'is', num\n",
    "                break\n",
    "            else:\n",
    "                return num, 'is a prime number'\n",
    "        else:\n",
    "            return num, 'is not a prime number'"
   ]
  },
  {
   "cell_type": "code",
   "execution_count": 19,
   "metadata": {},
   "outputs": [],
   "source": [
    "def count_primes(num):\n",
    "    # check for 0 or 1, will return 0 number of primes     # for length range from 2 to the (number) by steps of 2 to skip odd numbers\n",
    "    if num < 2:\n",
    "        return 0\n",
    "    # store prime numbers in a list starting w the first prime number (2) with a counter starting at x=3 going up to the input number\n",
    "    primes = [2]\n",
    "    x = 3\n",
    "    # x is counting every number up to the input number\n",
    "    while x <= num:\n",
    "        # check if x is not prime then break out of command and end the loop\n",
    "        # bc range(3,x,2) = list primes, can compress code for y in primes:\n",
    "        # syntax- for y in primes: \n",
    "        for y in range(3,x,2):\n",
    "            if x%y == 0:\n",
    "                x += 2\n",
    "                break\n",
    "        # use for else statements to run commands after a break in a for loop\n",
    "        # if loop is broken, the number is prime and it needs to be added to the list of primes\n",
    "        else:\n",
    "            primes.append(x)\n",
    "            x += 2\n",
    "    print(primes)\n",
    "    return len(primes)\n",
    "    # line to print list of is optional bc the return function already returns the number of primes for the range from 2 to a number\n",
    "    \n",
    "        \n",
    "    \n"
   ]
  },
  {
   "cell_type": "code",
   "execution_count": 20,
   "metadata": {
    "tags": []
   },
   "outputs": [
    {
     "output_type": "stream",
     "name": "stdout",
     "text": "[2, 3, 5, 7, 11, 13, 17, 19, 23, 29, 31, 37, 41, 43, 47, 53, 59, 61, 67, 71, 73, 79, 83, 89, 97]\n"
    },
    {
     "output_type": "execute_result",
     "data": {
      "text/plain": "25"
     },
     "metadata": {},
     "execution_count": 20
    }
   ],
   "source": [
    "count_primes(100)"
   ]
  },
  {
   "cell_type": "code",
   "execution_count": 9,
   "metadata": {},
   "outputs": [],
   "source": [
    "def count_primes(num):\n",
    "    if num < 2:\n",
    "        return 0\n",
    "    primes = [2]\n",
    "    x = 3\n",
    "    while x <= num:\n",
    "        for y in primes:\n",
    "            if x%y == 0:\n",
    "                    x += 2\n",
    "                    break\n",
    "        else:\n",
    "            primes.append(x)\n",
    "            x += 2\n",
    "    print(primes)\n",
    "    return len(primes)\n"
   ]
  },
  {
   "cell_type": "code",
   "execution_count": 10,
   "metadata": {
    "tags": []
   },
   "outputs": [
    {
     "output_type": "stream",
     "name": "stdout",
     "text": "[2, 3, 5, 7, 11, 13, 17, 19, 23, 29, 31, 37, 41, 43, 47, 53, 59, 61, 67, 71, 73, 79, 83, 89, 97]\n"
    },
    {
     "output_type": "execute_result",
     "data": {
      "text/plain": "25"
     },
     "metadata": {},
     "execution_count": 10
    }
   ],
   "source": [
    "count_primes(100)"
   ]
  }
 ]
}