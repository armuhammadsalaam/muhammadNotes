{
 "metadata": {
  "language_info": {
   "codemirror_mode": {
    "name": "ipython",
    "version": 3
   },
   "file_extension": ".py",
   "mimetype": "text/x-python",
   "name": "python",
   "nbconvert_exporter": "python",
   "pygments_lexer": "ipython3",
   "version": "3.7.6-final"
  },
  "orig_nbformat": 2,
  "kernelspec": {
   "name": "python3",
   "display_name": "Python 3"
  }
 },
 "nbformat": 4,
 "nbformat_minor": 2,
 "cells": [
  {
   "cell_type": "code",
   "execution_count": 1,
   "metadata": {},
   "outputs": [],
   "source": [
    "# Functions and Methods Homework\n",
    "# use set operator to return the unique elements in a list set()\n",
    "# set() cannot hold mutable elements like lists, sets or dictionaries as its elements"
   ]
  },
  {
   "cell_type": "code",
   "execution_count": 5,
   "metadata": {},
   "outputs": [],
   "source": [
    "# write a function that computes the volume of a sphere given its radius\n",
    "import math\n",
    "def vol(radius):\n",
    "    return ((4/3)*math.pi*(radius**3))"
   ]
  },
  {
   "cell_type": "code",
   "execution_count": 6,
   "metadata": {},
   "outputs": [
    {
     "output_type": "execute_result",
     "data": {
      "text/plain": "3053.6280592892786"
     },
     "metadata": {},
     "execution_count": 6
    }
   ],
   "source": [
    "vol(9)"
   ]
  },
  {
   "cell_type": "code",
   "execution_count": 7,
   "metadata": {},
   "outputs": [
    {
     "output_type": "execute_result",
     "data": {
      "text/plain": "33.510321638291124"
     },
     "metadata": {},
     "execution_count": 7
    }
   ],
   "source": [
    "vol(2)"
   ]
  },
  {
   "cell_type": "code",
   "execution_count": 16,
   "metadata": {},
   "outputs": [],
   "source": [
    "# write a function that checks whether a number is in a given range (inclusive of high and low)\n",
    "def ran_check(num,low,high):\n",
    "    if low <= num <= high:\n",
    "        print(f'{num} is in the range between {low} and {high}')\n",
    "    else:\n",
    "        print(f'{num} is not in the range between {low} and {high}')"
   ]
  },
  {
   "cell_type": "code",
   "execution_count": 17,
   "metadata": {
    "tags": []
   },
   "outputs": [
    {
     "output_type": "stream",
     "name": "stdout",
     "text": "5 is in the range between 2 and 7\n"
    }
   ],
   "source": [
    "ran_check(5,2,7)"
   ]
  },
  {
   "cell_type": "code",
   "execution_count": 18,
   "metadata": {
    "tags": []
   },
   "outputs": [
    {
     "output_type": "stream",
     "name": "stdout",
     "text": "10 is not in the range between 2 and 9\n"
    }
   ],
   "source": [
    "ran_check(10,2,9)"
   ]
  },
  {
   "cell_type": "code",
   "execution_count": 19,
   "metadata": {},
   "outputs": [],
   "source": [
    "def ran_bool(num,low,high):\n",
    "    return low <= num <= high"
   ]
  },
  {
   "cell_type": "code",
   "execution_count": 20,
   "metadata": {},
   "outputs": [
    {
     "output_type": "execute_result",
     "data": {
      "text/plain": "True"
     },
     "metadata": {},
     "execution_count": 20
    }
   ],
   "source": [
    "ran_bool(25,23,27)"
   ]
  },
  {
   "cell_type": "code",
   "execution_count": 21,
   "metadata": {
    "tags": []
   },
   "outputs": [
    {
     "output_type": "stream",
     "name": "stdout",
     "text": "21 is not in the range between 23 and 27\n"
    }
   ],
   "source": [
    "ran_check(21,23,27)"
   ]
  },
  {
   "cell_type": "code",
   "execution_count": 22,
   "metadata": {},
   "outputs": [
    {
     "output_type": "execute_result",
     "data": {
      "text/plain": "False"
     },
     "metadata": {},
     "execution_count": 22
    }
   ],
   "source": [
    "ran_bool(13,10,12)"
   ]
  },
  {
   "cell_type": "code",
   "execution_count": null,
   "metadata": {},
   "outputs": [],
   "source": [
    "# can also use the range function\n",
    "def ran_check(num):\n",
    "    return num in range(low,high+1)"
   ]
  },
  {
   "cell_type": "code",
   "execution_count": 36,
   "metadata": {},
   "outputs": [],
   "source": [
    "# Write a python function that accepts a string and calculates the number of upper case letters and lower case letters\n",
    "# this code below required major debugging for many syntax mistakes with .append() method, and return command\n",
    "# it was my first attempt to solve the prompt. \n",
    "#def up_low(str):\n",
    "    #list1=[]\n",
    "    #list2=[]\n",
    "    #for _ in str.split():\n",
    "        #if _[0].isupper():\n",
    "            #_[0].append(list1)\n",
    "        #else: \n",
    "            #pass\n",
    "        #if _[0].islower():\n",
    "            #_[0].append(list2)\n",
    "        #else: pass\n",
    "    #return list1\n",
    "    #return list2\n",
    "# below is the next day debug retry\n",
    " def up_low(str):\n",
    "    list1=[]\n",
    "    list2=[]\n",
    "    for _ in str:\n",
    "        if _.isupper() == True:\n",
    "            list1.append(_)\n",
    "        elif _[0].islower() == True:\n",
    "            list2.append(_)\n",
    "        else:\n",
    "            pass\n",
    "    print(f'No. of Uppercase letters: {len(list1)}')\n",
    "    print(f'No. of lowercase letters: {len(list2)}')"
   ]
  },
  {
   "cell_type": "code",
   "execution_count": null,
   "metadata": {},
   "outputs": [],
   "source": [
    "# example from solutions \n",
    "def up_low(s):\n",
    "    lowercase=0\n",
    "    uppercase=0\n",
    "    for char in s:\n",
    "        if char.isupper():\n",
    "            uppercase +=1\n",
    "        elif char.islower():\n",
    "            lowercase +=1\n",
    "        else:\n",
    "            pass\n",
    "    print(f'No. of Uppercase characters: {uppercase}')\n",
    "    print(f'No. of lowercase characters: {lowercase}')"
   ]
  },
  {
   "cell_type": "code",
   "execution_count": 17,
   "metadata": {},
   "outputs": [],
   "source": [
    "# example from solutions that uses a dictionary instead of two separate objects, lists, etc\n",
    "def up_low(s):\n",
    "    d = {'upper':0, 'lower':0}\n",
    "    for char in s:\n",
    "        if char.isupper():\n",
    "            d['upper'] += 1\n",
    "        elif char.islower():\n",
    "            d['lower'] += 1\n",
    "        else:\n",
    "            pass\n",
    "    print(f'Original string: {s}')\n",
    "    print(f'lowercase count: {d[\"lower\"]}')\n",
    "    print(f'Uppercase count: {d[\"upper\"]}')"
   ]
  },
  {
   "cell_type": "code",
   "execution_count": 18,
   "metadata": {
    "tags": []
   },
   "outputs": [
    {
     "output_type": "stream",
     "name": "stdout",
     "text": "Original string: Speak the Truth even if it is bitter to hear Rejoice in private especially when it is Good\nlowercase count: 69\nUppercase count: 4\n"
    }
   ],
   "source": [
    "#up_low('Speak the Truth even if it is bitter to hear Rejoice in private especially when it is Good')"
   ]
  },
  {
   "cell_type": "code",
   "execution_count": 13,
   "metadata": {
    "tags": []
   },
   "outputs": [],
   "source": [
    "# this code is wrong bc it only adds the first letter of each character per parameters to each list\n",
    "def up_low(s):\n",
    "    list1=[]\n",
    "    list2=[]\n",
    "    for _ in s.split():\n",
    "        if _[0].isupper() == True:\n",
    "            list1.append(_[0])\n",
    "        elif _.islower() == True:\n",
    "            list2.append(_[::])\n",
    "        else:\n",
    "            pass\n",
    "    print(f'No. of Upper case characters: {len(list1)}')\n",
    "    print(f'No. of lower case characters: {len(list2)}')\n",
    "\n",
    "\n",
    "    "
   ]
  },
  {
   "cell_type": "code",
   "execution_count": 14,
   "metadata": {
    "tags": []
   },
   "outputs": [
    {
     "output_type": "stream",
     "name": "stdout",
     "text": "No. of Upper case characters: 4\nNo. of lower case characters: 5\n"
    }
   ],
   "source": [
    "# returned from the incorrect function above\n",
    "#up_low('Hello Mr. Rogers how are you this fine Tuesday?')"
   ]
  },
  {
   "cell_type": "code",
   "execution_count": 81,
   "metadata": {},
   "outputs": [],
   "source": [
    "# pythonical program to convert a set into a list\n",
    "def unique_list(listx):\n",
    "    return list(set(listx))\n"
   ]
  },
  {
   "cell_type": "code",
   "execution_count": 60,
   "metadata": {},
   "outputs": [
    {
     "output_type": "execute_result",
     "data": {
      "text/plain": "[1, 2, 3, 4, 5]"
     },
     "metadata": {},
     "execution_count": 60
    }
   ],
   "source": [
    "unique_list([1,1,1,1,2,2,3,3,3,3,4,5])"
   ]
  },
  {
   "cell_type": "code",
   "execution_count": null,
   "metadata": {},
   "outputs": [],
   "source": [
    "# manual style of converting a list into a set of unique elements\n",
    "# not computationally efficient in python bc there is the set() operator\n",
    "#def unique_list(lst):\n",
    "    #seen_numbers = []\n",
    "    #for number in lst:\n",
    "        #if number not in seen_numbers:\n",
    "             #seen_numbers.append(number)\n",
    "    #return seen_numbers\n",
    "            "
   ]
  },
  {
   "cell_type": "code",
   "execution_count": 91,
   "metadata": {},
   "outputs": [],
   "source": [
    "# write a function to multiply all of the numbers in a list\n",
    "# pythonical function from the numbers python library with a product operator\n",
    "import numpy\n",
    "def multiply(numbers):\n",
    "    return numpy.prod(numbers)"
   ]
  },
  {
   "cell_type": "code",
   "execution_count": 94,
   "metadata": {},
   "outputs": [
    {
     "output_type": "execute_result",
     "data": {
      "text/plain": "-24"
     },
     "metadata": {},
     "execution_count": 94
    }
   ],
   "source": [
    "multiply([1,2,3,-4])"
   ]
  },
  {
   "cell_type": "code",
   "execution_count": 19,
   "metadata": {},
   "outputs": [],
   "source": [
    "# write a function to multiply all of the numbers in a list\n",
    "# example from solutions\n",
    "# define a function using a base case and for loop to adjust the base and return the new output\n",
    "def multiply(numbers):\n",
    "    total = 1\n",
    "    for num in numbers:\n",
    "        total = total * num\n",
    "    return total"
   ]
  },
  {
   "cell_type": "code",
   "execution_count": 20,
   "metadata": {},
   "outputs": [
    {
     "output_type": "execute_result",
     "data": {
      "text/plain": "-24"
     },
     "metadata": {},
     "execution_count": 20
    }
   ],
   "source": [
    "multiply([1,2,3,-4])"
   ]
  },
  {
   "cell_type": "code",
   "execution_count": 101,
   "metadata": {},
   "outputs": [],
   "source": [
    "# this is a function to multiply all of the numbers in a list using traversal\n",
    "# found below solution online bc I thought the numpy product operator was easy out\n",
    "def multiplylist(mlist):\n",
    "    # multiply elements one by one\n",
    "    result=1\n",
    "    for num in mlist:\n",
    "        result=result*num\n",
    "    print(result)\n",
    "\n"
   ]
  },
  {
   "cell_type": "code",
   "execution_count": 102,
   "metadata": {
    "tags": []
   },
   "outputs": [
    {
     "output_type": "stream",
     "name": "stdout",
     "text": "-24\n"
    }
   ],
   "source": [
    "multiplylist([1,2,3,-4])"
   ]
  },
  {
   "cell_type": "code",
   "execution_count": 36,
   "metadata": {},
   "outputs": [],
   "source": [
    "# write a python function that checks whether a word or phrase is a palendrome\n",
    "def palindrome(text):\n",
    "    text=text.replace(' ','')\n",
    "    return text==text[::-1]"
   ]
  },
  {
   "cell_type": "code",
   "execution_count": 37,
   "metadata": {},
   "outputs": [
    {
     "output_type": "execute_result",
     "data": {
      "text/plain": "True"
     },
     "metadata": {},
     "execution_count": 37
    }
   ],
   "source": [
    "palindrome('racecar')"
   ]
  },
  {
   "cell_type": "code",
   "execution_count": 38,
   "metadata": {},
   "outputs": [
    {
     "output_type": "execute_result",
     "data": {
      "text/plain": "False"
     },
     "metadata": {},
     "execution_count": 38
    }
   ],
   "source": [
    "palindrome('abcdefghijklmnop')"
   ]
  },
  {
   "cell_type": "code",
   "execution_count": 39,
   "metadata": {},
   "outputs": [
    {
     "output_type": "execute_result",
     "data": {
      "text/plain": "True"
     },
     "metadata": {},
     "execution_count": 39
    }
   ],
   "source": [
    "palindrome('nurses run')"
   ]
  },
  {
   "cell_type": "code",
   "execution_count": 126,
   "metadata": {
    "tags": []
   },
   "outputs": [
    {
     "output_type": "stream",
     "name": "stdout",
     "text": "ponmlkjihgfedcba\n"
    }
   ],
   "source": [
    "text='abcdefghijklmnop'\n",
    "print(text[::-1])"
   ]
  },
  {
   "cell_type": "code",
   "execution_count": 40,
   "metadata": {},
   "outputs": [],
   "source": [
    "# write a function to check whether a string is a pangram\n",
    "# use .replace() to get rid of spaces\n",
    "# .intersection to compare the intersection of two sets\n",
    "import string\n",
    "def ispangram(str1):\n",
    "    alphabet=set(string.ascii_lowercase)\n",
    "    str1=set(str1.replace(' ','').lower())\n",
    "    return str1==alphabet\n",
    "    # since we are grabbing all unique elements from str1 with the set() operator, there is no need to do the .intersection() method\n",
    "    #str2=str1.intersection(alphabet)\n",
    "    #return str2==alphabet\n",
    "### \n",
    "\n"
   ]
  },
  {
   "cell_type": "code",
   "execution_count": null,
   "metadata": {},
   "outputs": [],
   "source": [
    "def ispangram(str1,alphabet=set(string.ascii_lowercase)):\n",
    "    str1=set(str1.replace(' ','').lower())\n",
    "    return str1==alphabet"
   ]
  },
  {
   "cell_type": "code",
   "execution_count": 41,
   "metadata": {},
   "outputs": [
    {
     "output_type": "execute_result",
     "data": {
      "text/plain": "True"
     },
     "metadata": {},
     "execution_count": 41
    }
   ],
   "source": [
    "ispangram('The quick brown fox jumps over the lazy dog')"
   ]
  },
  {
   "cell_type": "code",
   "execution_count": 44,
   "metadata": {},
   "outputs": [],
   "source": [
    "### this attempt very unreadable and lots of unnecessary repeated commands/syntax\n",
    "import string\n",
    "def checkpangram(string1):\n",
    "    string1=set(string1.replace(' ','').lower())\n",
    "    #print(string1.intersection(string.ascii_lowercase))\n",
    "    if string1.intersection(set(string.ascii_lowercase))==set(string.ascii_lowercase):\n",
    "        return True\n",
    "    else: \n",
    "        return False"
   ]
  },
  {
   "cell_type": "code",
   "execution_count": 45,
   "metadata": {
    "tags": []
   },
   "outputs": [
    {
     "output_type": "execute_result",
     "data": {
      "text/plain": "True"
     },
     "metadata": {},
     "execution_count": 45
    }
   ],
   "source": [
    "checkpangram('The quick brown fox jumps over the lazy dog')"
   ]
  }
 ]
}