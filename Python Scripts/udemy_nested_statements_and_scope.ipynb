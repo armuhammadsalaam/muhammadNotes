{
 "metadata": {
  "language_info": {
   "codemirror_mode": {
    "name": "ipython",
    "version": 3
   },
   "file_extension": ".py",
   "mimetype": "text/x-python",
   "name": "python",
   "nbconvert_exporter": "python",
   "pygments_lexer": "ipython3",
   "version": "3.7.6-final"
  },
  "orig_nbformat": 2,
  "kernelspec": {
   "name": "python3",
   "display_name": "Python 3"
  }
 },
 "nbformat": 4,
 "nbformat_minor": 2,
 "cells": [
  {
   "cell_type": "code",
   "execution_count": 1,
   "metadata": {},
   "outputs": [],
   "source": [
    "# Nested Statements and Scope"
   ]
  },
  {
   "cell_type": "code",
   "execution_count": 2,
   "metadata": {},
   "outputs": [],
   "source": [
    "x=25\n",
    "def printer():\n",
    "    x=50\n",
    "    return x"
   ]
  },
  {
   "cell_type": "code",
   "execution_count": 3,
   "metadata": {},
   "outputs": [],
   "source": [
    "# scope from LEGB Rule:\n",
    "# L: Local - Names assigned in any way within a function (def or lambda), and not declared global in that function\n",
    "# E: Enclosing function locals - Names in the local scope of any enclosing functions (def or lambda), from inner to outer\n",
    "# G: Global (module) - Names assigned at the top-level of a module file, or declared global in a def within the file\n",
    "# B: Built in (Python): Names preassigned in the built-in names module open, range, SyntaxError etc"
   ]
  },
  {
   "cell_type": "code",
   "execution_count": 5,
   "metadata": {
    "tags": []
   },
   "outputs": [
    {
     "output_type": "stream",
     "name": "stdout",
     "text": "Hello Sammy\n"
    }
   ],
   "source": [
    "lambda: num:num**2\n",
    "# remember not to overwrite built in python functions\n",
    "# python will call def within a function if using the function in a line of code\n",
    "# python will not call variable assignments outside of a function if it was not in the function\n",
    "# global\n",
    "name='THIS IS A GLOBAL STRING'\n",
    "def greet():\n",
    "    # enclosing\n",
    "    name = 'Sammy'\n",
    "    def hello():\n",
    "        #local\n",
    "        print('Hello '+name)\n",
    "    hello()\n",
    "greet()"
   ]
  },
  {
   "cell_type": "code",
   "execution_count": 6,
   "metadata": {},
   "outputs": [],
   "source": [
    "x=50\n",
    "def func(x):\n",
    "    print(f'X is {x}')\n",
    "    # Local reassignment\n",
    "    x=200\n",
    "    print(f'I just locally changed x to {x}')"
   ]
  },
  {
   "cell_type": "code",
   "execution_count": 7,
   "metadata": {
    "tags": []
   },
   "outputs": [
    {
     "output_type": "stream",
     "name": "stdout",
     "text": "X is 50\nI just locally changed x to 200\n"
    }
   ],
   "source": [
    "func(x)"
   ]
  },
  {
   "cell_type": "code",
   "execution_count": 8,
   "metadata": {
    "tags": []
   },
   "outputs": [
    {
     "output_type": "stream",
     "name": "stdout",
     "text": "50\n"
    }
   ],
   "source": [
    "# scope - local name change will only happen inside of the enlcosed function, so if you call X outside of the local function where the name assignment is, it will return the global variable assignment\n",
    "print(x)"
   ]
  },
  {
   "cell_type": "code",
   "execution_count": 11,
   "metadata": {},
   "outputs": [],
   "source": [
    "x=50\n",
    "def func():\n",
    "    global x\n",
    "    print(f'X is {x}')\n",
    "    # local reassignment on a global variable\n",
    "    x= 'new value'\n",
    "    print(f'I just locally changed global x to {x}')\n"
   ]
  },
  {
   "cell_type": "code",
   "execution_count": 13,
   "metadata": {
    "tags": []
   },
   "outputs": [
    {
     "output_type": "stream",
     "name": "stdout",
     "text": "X is 50\nI just locally changed global x to new value\n"
    }
   ],
   "source": [
    "func()"
   ]
  },
  {
   "cell_type": "code",
   "execution_count": 15,
   "metadata": {
    "tags": []
   },
   "outputs": [
    {
     "output_type": "stream",
     "name": "stdout",
     "text": "new value\n"
    }
   ],
   "source": [
    "print(x)"
   ]
  },
  {
   "cell_type": "code",
   "execution_count": 16,
   "metadata": {},
   "outputs": [],
   "source": [
    "# early on, try to use a local path to chaging global variables instead of calling global within a function\n",
    "x=50\n",
    "def func(x):\n",
    "    print(f'X is {x}')\n",
    "    # local reassignment on a global variable\n",
    "    x='new value'\n",
    "    print (f'I just locally changed global X to {x}')\n",
    "    return x"
   ]
  },
  {
   "cell_type": "code",
   "execution_count": 17,
   "metadata": {},
   "outputs": [
    {
     "output_type": "execute_result",
     "data": {
      "text/plain": "50"
     },
     "metadata": {},
     "execution_count": 17
    }
   ],
   "source": [
    "x"
   ]
  },
  {
   "cell_type": "code",
   "execution_count": 19,
   "metadata": {
    "tags": []
   },
   "outputs": [
    {
     "output_type": "stream",
     "name": "stdout",
     "text": "X is 50\nI just locally changed global X to new value\n"
    },
    {
     "output_type": "execute_result",
     "data": {
      "text/plain": "'new value'"
     },
     "metadata": {},
     "execution_count": 19
    }
   ],
   "source": [
    "func(x)"
   ]
  }
 ]
}